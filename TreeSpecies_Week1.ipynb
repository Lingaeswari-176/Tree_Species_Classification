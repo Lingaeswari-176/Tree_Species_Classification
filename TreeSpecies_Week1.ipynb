{
  "cells": [
    {
      "cell_type": "markdown",
      "source": [
        "Load Data from Drive"
      ],
      "metadata": {
        "id": "5B2M5uBcxR6V"
      }
    },
    {
      "cell_type": "code",
      "execution_count": null,
      "metadata": {
        "colab": {
          "base_uri": "https://localhost:8080/"
        },
        "id": "bbn-YvbWNVHa",
        "outputId": "75583520-06d6-4d05-851c-095c06539ff8"
      },
      "outputs": [
        {
          "output_type": "stream",
          "name": "stdout",
          "text": [
            "Drive already mounted at /content/drive; to attempt to forcibly remount, call drive.mount(\"/content/drive\", force_remount=True).\n"
          ]
        }
      ],
      "source": [
        "from google.colab import drive\n",
        "drive.mount('/content/drive')"
      ]
    },
    {
      "cell_type": "markdown",
      "source": [
        "Extract files from Folder"
      ],
      "metadata": {
        "id": "zMviNSEOxXbG"
      }
    },
    {
      "cell_type": "code",
      "source": [
        "import zipfile\n",
        "import os\n",
        "\n",
        "# Path to the uploaded file\n",
        "zip_path = \"archive (1).zip\"\n",
        "\n",
        "# Extract it\n",
        "with zipfile.ZipFile(zip_path, 'r') as zip_ref:\n",
        "    zip_ref.extractall(\"extracted\")\n",
        "\n",
        "# Check the files\n",
        "print(\"Extracted files:\", os.listdir(\"extracted\"))\n"
      ],
      "metadata": {
        "colab": {
          "base_uri": "https://localhost:8080/"
        },
        "id": "UTpgUIx0XVzs",
        "outputId": "d040fb4a-69fa-4173-f225-30db2767cc7c"
      },
      "execution_count": null,
      "outputs": [
        {
          "output_type": "stream",
          "name": "stdout",
          "text": [
            "Extracted files: ['Tree_Species_Dataset']\n"
          ]
        }
      ]
    }
  ],
  "metadata": {
    "colab": {
      "provenance": []
    },
    "kernelspec": {
      "display_name": "Python 3",
      "name": "python3"
    },
    "language_info": {
      "name": "python"
    }
  },
  "nbformat": 4,
  "nbformat_minor": 0
}